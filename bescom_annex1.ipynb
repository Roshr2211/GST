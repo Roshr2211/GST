{
 "cells": [
  {
   "cell_type": "code",
   "execution_count": 1,
   "id": "59a335f1",
   "metadata": {},
   "outputs": [],
   "source": [
    "import matplotlib.pyplot as plt\n",
    "import pandas as pd\n",
    "import numpy as np\n",
    "from consolemenu import ConsoleMenu, SelectionMenu\n",
    "import seaborn as sns"
   ]
  },
  {
   "cell_type": "code",
   "execution_count": 2,
   "id": "7bb88c15",
   "metadata": {},
   "outputs": [
    {
     "data": {
      "text/plain": [
       "Index(['divisionid', 'divisionname', 'amount', 'cgst', 'sgst', 'igst',\n",
       "       'filingmonth'],\n",
       "      dtype='object')"
      ]
     },
     "execution_count": 2,
     "metadata": {},
     "output_type": "execute_result"
    }
   ],
   "source": [
    "df_time1 = pd.read_csv('annexure1divisionwisesummary_csv.csv', delimiter='~#~', engine='python')\n",
    "df_time1.columns"
   ]
  },
  {
   "cell_type": "code",
   "execution_count": 9,
   "id": "a6693f22",
   "metadata": {},
   "outputs": [
    {
     "data": {
      "text/html": [
       "<div>\n",
       "<style scoped>\n",
       "    .dataframe tbody tr th:only-of-type {\n",
       "        vertical-align: middle;\n",
       "    }\n",
       "\n",
       "    .dataframe tbody tr th {\n",
       "        vertical-align: top;\n",
       "    }\n",
       "\n",
       "    .dataframe thead th {\n",
       "        text-align: right;\n",
       "    }\n",
       "</style>\n",
       "<table border=\"1\" class=\"dataframe\">\n",
       "  <thead>\n",
       "    <tr style=\"text-align: right;\">\n",
       "      <th></th>\n",
       "      <th>filingmonth</th>\n",
       "      <th>divisionid</th>\n",
       "      <th>divisionname</th>\n",
       "    </tr>\n",
       "  </thead>\n",
       "  <tbody>\n",
       "    <tr>\n",
       "      <th>0</th>\n",
       "      <td>Jun-23</td>\n",
       "      <td>22</td>\n",
       "      <td>Bangalore North Circle</td>\n",
       "    </tr>\n",
       "    <tr>\n",
       "      <th>1</th>\n",
       "      <td>Nov-23</td>\n",
       "      <td>22</td>\n",
       "      <td>Bangalore North Circle</td>\n",
       "    </tr>\n",
       "    <tr>\n",
       "      <th>2</th>\n",
       "      <td>Aug-23</td>\n",
       "      <td>23</td>\n",
       "      <td>Bangalore South Circle</td>\n",
       "    </tr>\n",
       "    <tr>\n",
       "      <th>3</th>\n",
       "      <td>Dec-23</td>\n",
       "      <td>23</td>\n",
       "      <td>Bangalore South Circle</td>\n",
       "    </tr>\n",
       "    <tr>\n",
       "      <th>4</th>\n",
       "      <td>Jun-23</td>\n",
       "      <td>23</td>\n",
       "      <td>Bangalore South Circle</td>\n",
       "    </tr>\n",
       "  </tbody>\n",
       "</table>\n",
       "</div>"
      ],
      "text/plain": [
       "  filingmonth  divisionid            divisionname\n",
       "0      Jun-23          22  Bangalore North Circle\n",
       "1      Nov-23          22  Bangalore North Circle\n",
       "2      Aug-23          23  Bangalore South Circle\n",
       "3      Dec-23          23  Bangalore South Circle\n",
       "4      Jun-23          23  Bangalore South Circle"
      ]
     },
     "execution_count": 9,
     "metadata": {},
     "output_type": "execute_result"
    }
   ],
   "source": [
    "# Assuming df_time1 is your original DataFrame\n",
    "df_time = df_time1[['filingmonth', 'divisionid', 'divisionname']]\n",
    "\n",
    "df_time.head()"
   ]
  },
  {
   "cell_type": "code",
   "execution_count": 10,
   "id": "3fe36f6e",
   "metadata": {},
   "outputs": [
    {
     "data": {
      "text/plain": [
       "filingmonth     0\n",
       "divisionid      0\n",
       "divisionname    0\n",
       "dtype: int64"
      ]
     },
     "execution_count": 10,
     "metadata": {},
     "output_type": "execute_result"
    }
   ],
   "source": [
    "df_time.isna().sum()"
   ]
  },
  {
   "cell_type": "code",
   "execution_count": 20,
   "id": "24d89a22",
   "metadata": {},
   "outputs": [
    {
     "data": {
      "text/html": [
       "<div>\n",
       "<style scoped>\n",
       "    .dataframe tbody tr th:only-of-type {\n",
       "        vertical-align: middle;\n",
       "    }\n",
       "\n",
       "    .dataframe tbody tr th {\n",
       "        vertical-align: top;\n",
       "    }\n",
       "\n",
       "    .dataframe thead th {\n",
       "        text-align: right;\n",
       "    }\n",
       "</style>\n",
       "<table border=\"1\" class=\"dataframe\">\n",
       "  <thead>\n",
       "    <tr style=\"text-align: right;\">\n",
       "      <th></th>\n",
       "      <th>amount</th>\n",
       "      <th>cgst</th>\n",
       "      <th>sgst</th>\n",
       "      <th>igst</th>\n",
       "    </tr>\n",
       "  </thead>\n",
       "  <tbody>\n",
       "    <tr>\n",
       "      <th>0</th>\n",
       "      <td>500.0</td>\n",
       "      <td>45.0</td>\n",
       "      <td>45.0</td>\n",
       "      <td>0.0</td>\n",
       "    </tr>\n",
       "    <tr>\n",
       "      <th>1</th>\n",
       "      <td>400.0</td>\n",
       "      <td>36.0</td>\n",
       "      <td>36.0</td>\n",
       "      <td>0.0</td>\n",
       "    </tr>\n",
       "    <tr>\n",
       "      <th>2</th>\n",
       "      <td>164367.0</td>\n",
       "      <td>14793.0</td>\n",
       "      <td>14793.0</td>\n",
       "      <td>0.0</td>\n",
       "    </tr>\n",
       "    <tr>\n",
       "      <th>3</th>\n",
       "      <td>400.0</td>\n",
       "      <td>36.0</td>\n",
       "      <td>36.0</td>\n",
       "      <td>0.0</td>\n",
       "    </tr>\n",
       "    <tr>\n",
       "      <th>4</th>\n",
       "      <td>1900.0</td>\n",
       "      <td>171.0</td>\n",
       "      <td>171.0</td>\n",
       "      <td>0.0</td>\n",
       "    </tr>\n",
       "  </tbody>\n",
       "</table>\n",
       "</div>"
      ],
      "text/plain": [
       "     amount     cgst     sgst  igst\n",
       "0     500.0     45.0     45.0   0.0\n",
       "1     400.0     36.0     36.0   0.0\n",
       "2  164367.0  14793.0  14793.0   0.0\n",
       "3     400.0     36.0     36.0   0.0\n",
       "4    1900.0    171.0    171.0   0.0"
      ]
     },
     "execution_count": 20,
     "metadata": {},
     "output_type": "execute_result"
    }
   ],
   "source": [
    "df_cost = df_time1.drop(['filingmonth','divisionid','divisionname'], axis=1)\n",
    "df_cost.head()"
   ]
  },
  {
   "cell_type": "code",
   "execution_count": 21,
   "id": "fa2fee9f",
   "metadata": {},
   "outputs": [
    {
     "data": {
      "text/plain": [
       "filingmonth     7\n",
       "divisionid      0\n",
       "divisionname    0\n",
       "dtype: int64"
      ]
     },
     "execution_count": 21,
     "metadata": {},
     "output_type": "execute_result"
    }
   ],
   "source": [
    "df_time.isna().sum()"
   ]
  },
  {
   "cell_type": "code",
   "execution_count": 22,
   "id": "023c1578",
   "metadata": {},
   "outputs": [
    {
     "data": {
      "text/html": [
       "<div>\n",
       "<style scoped>\n",
       "    .dataframe tbody tr th:only-of-type {\n",
       "        vertical-align: middle;\n",
       "    }\n",
       "\n",
       "    .dataframe tbody tr th {\n",
       "        vertical-align: top;\n",
       "    }\n",
       "\n",
       "    .dataframe thead th {\n",
       "        text-align: right;\n",
       "    }\n",
       "</style>\n",
       "<table border=\"1\" class=\"dataframe\">\n",
       "  <thead>\n",
       "    <tr style=\"text-align: right;\">\n",
       "      <th></th>\n",
       "      <th>filingmonth</th>\n",
       "    </tr>\n",
       "  </thead>\n",
       "  <tbody>\n",
       "    <tr>\n",
       "      <th>0</th>\n",
       "      <td>2023-06-01</td>\n",
       "    </tr>\n",
       "    <tr>\n",
       "      <th>1</th>\n",
       "      <td>2023-11-01</td>\n",
       "    </tr>\n",
       "    <tr>\n",
       "      <th>2</th>\n",
       "      <td>2023-08-01</td>\n",
       "    </tr>\n",
       "    <tr>\n",
       "      <th>3</th>\n",
       "      <td>2023-12-01</td>\n",
       "    </tr>\n",
       "    <tr>\n",
       "      <th>4</th>\n",
       "      <td>2023-06-01</td>\n",
       "    </tr>\n",
       "  </tbody>\n",
       "</table>\n",
       "</div>"
      ],
      "text/plain": [
       "  filingmonth\n",
       "0  2023-06-01\n",
       "1  2023-11-01\n",
       "2  2023-08-01\n",
       "3  2023-12-01\n",
       "4  2023-06-01"
      ]
     },
     "execution_count": 22,
     "metadata": {},
     "output_type": "execute_result"
    }
   ],
   "source": [
    "df_timeaxis = df_time[['filingmonth']]\n",
    "df_timeaxis.head()"
   ]
  },
  {
   "cell_type": "code",
   "execution_count": 23,
   "id": "2e0ad7ae",
   "metadata": {},
   "outputs": [
    {
     "name": "stderr",
     "output_type": "stream",
     "text": [
      "C:\\Users\\Roshn\\AppData\\Local\\Temp\\ipykernel_32892\\1131698320.py:4: SettingWithCopyWarning: \n",
      "A value is trying to be set on a copy of a slice from a DataFrame.\n",
      "Try using .loc[row_indexer,col_indexer] = value instead\n",
      "\n",
      "See the caveats in the documentation: https://pandas.pydata.org/pandas-docs/stable/user_guide/indexing.html#returning-a-view-versus-a-copy\n",
      "  df_time['filingmonth'] = pd.to_datetime(df_time['filingmonth'], format='%b-%y', errors='coerce')\n"
     ]
    },
    {
     "name": "stdout",
     "output_type": "stream",
     "text": [
      "Enter 'all' to see counts for all months or enter a specific month (e.g., 'May-23'): all\n",
      "Counts for all months:\n",
      "filingmonth\n",
      "Jun-23    44\n",
      "Nov-23    39\n",
      "May-23    39\n",
      "Aug-23    38\n",
      "Oct-23    37\n",
      "Jul-23    37\n",
      "Sep-23    36\n",
      "Apr-23    11\n",
      "Dec-23     2\n",
      "Name: count, dtype: int64\n"
     ]
    }
   ],
   "source": [
    "import pandas as pd\n",
    "\n",
    "# Assuming 'df' is your DataFrame\n",
    "df_time['filingmonth'] = pd.to_datetime(df_time['filingmonth'], format='%b-%y', errors='coerce')\n",
    "\n",
    "# Count occurrences of each month\n",
    "month_counts = df_time['filingmonth'].dt.strftime('%b-%y').value_counts()\n",
    "\n",
    "# Ask the user for choice\n",
    "user_choice = input(\"Enter 'all' to see counts for all months or enter a specific month (e.g., 'May-23'): \")\n",
    "\n",
    "if user_choice.lower() == 'all':\n",
    "    # Display counts for all months\n",
    "    print(\"Counts for all months:\")\n",
    "    print(month_counts)\n",
    "else:\n",
    "    # Check if the user input is a valid month\n",
    "    try:\n",
    "        user_input_dt = pd.to_datetime(user_choice, format='%b-%y')\n",
    "        user_input_str = user_input_dt.strftime('%b-%y')\n",
    "\n",
    "        if user_input_str in month_counts.index:\n",
    "            # Display count for the specified month\n",
    "            count_for_user_input = month_counts[user_input_str]\n",
    "            print(f\"Count for {user_input_str}: {count_for_user_input}\")\n",
    "        else:\n",
    "            print(f\"Invalid month: {user_choice}\")\n",
    "    except ValueError:\n",
    "        print(f\"Invalid input: {user_choice}\")\n"
   ]
  },
  {
   "cell_type": "code",
   "execution_count": 24,
   "id": "3853a80e",
   "metadata": {},
   "outputs": [
    {
     "data": {
      "text/plain": [
       "filingmonth\n",
       "2023-06-01     44\n",
       "2023-05-01     39\n",
       "2023-11-01     39\n",
       "2023-08-01     38\n",
       "2023-07-01     37\n",
       "2023-10-01     37\n",
       "2023-09-01     36\n",
       "2023-04-01     11\n",
       "2023-12-01      2\n",
       "Name: count, dtype: int64"
      ]
     },
     "execution_count": 24,
     "metadata": {},
     "output_type": "execute_result"
    }
   ],
   "source": [
    "df_timeaxis.value_counts()"
   ]
  },
  {
   "cell_type": "code",
   "execution_count": 25,
   "id": "e9bd77a9",
   "metadata": {},
   "outputs": [],
   "source": [
    "sample_size = 20  # Adjust the sample size as needed\n",
    "df = df_time.sample(n=sample_size)"
   ]
  },
  {
   "cell_type": "code",
   "execution_count": 46,
   "id": "24f585e1",
   "metadata": {},
   "outputs": [
    {
     "name": "stdout",
     "output_type": "stream",
     "text": [
      "Available columns in df_time:\n",
      "\n",
      "  ┌─────────────────────────────────────────────────────────────────────────┐\n",
      "  │                                                                         │\n",
      "  │  Select X-axis column from df_time                                      │\n",
      "  │                                                                         │\n",
      "  │                                                                         │\n",
      "  │    1 - filingmonth                                                      │\n",
      "  │    2 - divisionid                                                       │\n",
      "  │    3 - divisionname                                                     │\n",
      "  │    4 - Exit                                                             │\n",
      "  │                                                                         │\n",
      "  │                                                                         │\n",
      "  └─────────────────────────────────────────────────────────────────────────┘\n",
      "  >> 2\n",
      "\n",
      "Available columns in df_cost:\n",
      "\n",
      "  ┌─────────────────────────────────────────────────────────────────────────┐\n",
      "  │                                                                         │\n",
      "  │  Select Y-axis column from df_cost                                      │\n",
      "  │                                                                         │\n",
      "  │                                                                         │\n",
      "  │    1 - amount                                                           │\n",
      "  │    2 - cgst                                                             │\n",
      "  │    3 - sgst                                                             │\n",
      "  │    4 - igst                                                             │\n",
      "  │    5 - Exit                                                             │\n",
      "  │                                                                         │\n",
      "  │                                                                         │\n",
      "  └─────────────────────────────────────────────────────────────────────────┘\n",
      "  >> 1\n",
      "\n",
      "  ┌─────────────────────────────────────────────────────────────────────────┐\n",
      "  │                                                                         │\n",
      "  │  Select Chart Type                                                      │\n",
      "  │                                                                         │\n",
      "  │                                                                         │\n",
      "  │    1 - Bar Graph                                                        │\n",
      "  │    2 - Bubble Graph                                                     │\n",
      "  │    3 - Pie Chart                                                        │\n",
      "  │    4 - Scatter Plot                                                     │\n",
      "  │    5 - Heat Map                                                         │\n",
      "  │    6 - Exit                                                             │\n",
      "  │                                                                         │\n",
      "  │                                                                         │\n",
      "  └─────────────────────────────────────────────────────────────────────────┘\n",
      "  >> 1\n"
     ]
    },
    {
     "data": {
      "image/png": "[encoded data removed]",
      "text/plain": [
       "<Figure size 640x480 with 1 Axes>"
      ]
     },
     "metadata": {},
     "output_type": "display_data"
    }
   ],
   "source": [
    "import matplotlib.pyplot as plt\n",
    "import seaborn as sns  # Assuming you are using Seaborn for the heatmap\n",
    "\n",
    "\n",
    "# Function to create a scrollable menu for column selection\n",
    "def select_column(menu_title, column_names):\n",
    "    menu = SelectionMenu(column_names, menu_title)\n",
    "    menu.show()\n",
    "    selected_index = menu.selected_option\n",
    "    return column_names[selected_index]\n",
    "\n",
    "# Display available columns for the user to choose from\n",
    "print(\"Available columns in df_time:\")\n",
    "x_axis_column = select_column(\"Select X-axis column from df_time\", df_time.columns)\n",
    "\n",
    "print(\"\\nAvailable columns in df_cost:\")\n",
    "y_axis_column = select_column(\"Select Y-axis column from df_cost\", df_cost.columns)\n",
    "\n",
    "# Check if the user-input columns exist in the respective DataFrames\n",
    "if x_axis_column and y_axis_column:\n",
    "    # Ask the user to choose the chart type\n",
    "    chart_types = ['Bar Graph', 'Bubble Graph', 'Pie Chart', 'Scatter Plot', 'Heat Map']\n",
    "    chart_type_menu = SelectionMenu(chart_types, \"Select Chart Type\")\n",
    "    chart_type_menu.show()\n",
    "    selected_chart_index = chart_type_menu.selected_option\n",
    "    selected_chart_type = chart_types[selected_chart_index]\n",
    "    colors = plt.cm.rainbow(np.linspace(0, 1, len(df_time1)))\n",
    "\n",
    "    if selected_chart_type == 'Bar Graph':\n",
    "        #         bar_width = 12\n",
    "        plt.bar(df_time[x_axis_column], df_cost[y_axis_column],color=colors)        \n",
    "        \n",
    "        plt.xticks(rotation=45)\n",
    "        plt.xlabel(x_axis_column)\n",
    "        plt.ylabel(y_axis_column)        \n",
    "        plt.title(f'Bar Graph: {y_axis_column} vs {x_axis_column}')\n",
    "        plt.tight_layout()\n",
    "        \n",
    "    \n",
    "    elif selected_chart_type == 'Bubble Graph':\n",
    "        # Ask the user to choose the size column for the bubble graph\n",
    "        size_column = select_column(\"Select Size Column for Bubble Graph\", df_cost.columns)\n",
    "        plt.scatter(df_time[x_axis_column], df_cost[y_axis_column], s=df_cost[size_column])\n",
    "\n",
    "    elif selected_chart_type == 'Pie Chart':\n",
    "        plt.pie(df_cost[y_axis_column], labels=df_time[x_axis_column], autopct='%1.1f%%')\n",
    "        plt.title(f'Pie Chart: {y_axis_column} by {x_axis_column}')\n",
    "\n",
    "    elif selected_chart_type == 'Scatter Plot':\n",
    "        plt.scatter(df_time[x_axis_column], df_cost[y_axis_column],color = colors)\n",
    "\n",
    "    elif selected_chart_type == 'Heat Map':\n",
    "        # Assuming you want a heatmap for correlation\n",
    "        sns.heatmap(df_cost.corr(), annot=True, cmap='coolwarm')\n",
    "        plt.title('Heat Map: Correlation Matrix')\n",
    "\n",
    "    # Rotate x-axis labels for all chart types\n",
    "    plt.xticks(rotation=90)  # Adjust the rotation angle as needed\n",
    "\n",
    "    plt.show()\n",
    "else:\n",
    "    print(\"Invalid column names. Please check your input.\")\n"
   ]
  },
  {
   "cell_type": "code",
   "execution_count": null,
   "id": "1cdb6adf",
   "metadata": {},
   "outputs": [],
   "source": []
  }
 ],
 "metadata": {
  "kernelspec": {
   "display_name": "Python 3 (ipykernel)",
   "language": "python",
   "name": "python3"
  },
  "language_info": {
   "codemirror_mode": {
    "name": "ipython",
    "version": 3
   },
   "file_extension": ".py",
   "mimetype": "text/x-python",
   "name": "python",
   "nbconvert_exporter": "python",
   "pygments_lexer": "ipython3",
   "version": "3.11.5"
  }
 },
 "nbformat": 4,
 "nbformat_minor": 5
}
